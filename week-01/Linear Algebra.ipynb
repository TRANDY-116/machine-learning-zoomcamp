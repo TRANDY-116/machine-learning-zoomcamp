{
 "cells": [
  {
   "cell_type": "code",
   "execution_count": 68,
   "id": "ab84faa7-b028-4b59-9d75-0748d9abd632",
   "metadata": {},
   "outputs": [],
   "source": [
    "import numpy as np"
   ]
  },
  {
   "cell_type": "code",
   "execution_count": 71,
   "id": "1ba0b5bd-d665-4433-9f31-c72bc44927aa",
   "metadata": {},
   "outputs": [
    {
     "data": {
      "text/plain": [
       "array([ 2,  4,  6,  8, 10])"
      ]
     },
     "execution_count": 71,
     "metadata": {},
     "output_type": "execute_result"
    }
   ],
   "source": [
    "u = np.array([1,2,3,4,5])\n",
    "v = np.array([1,2,3,4, 5])\n",
    "u + v"
   ]
  },
  {
   "cell_type": "code",
   "execution_count": 72,
   "id": "abf84de3-5d4b-49ff-91c7-5df92941f38f",
   "metadata": {},
   "outputs": [
    {
     "data": {
      "text/plain": [
       "array([ 1,  4,  9, 16, 25])"
      ]
     },
     "execution_count": 72,
     "metadata": {},
     "output_type": "execute_result"
    }
   ],
   "source": [
    "u * v"
   ]
  },
  {
   "cell_type": "code",
   "execution_count": 76,
   "id": "bfccb778-d93b-4eb7-8316-280a6e9defa9",
   "metadata": {},
   "outputs": [],
   "source": [
    "def vector_multiplication(u, v):\n",
    "    assert u.shape[0] == v.shape[0]\n",
    "    \n",
    "    n = u.shape[0]\n",
    "\n",
    "    result = 0.0\n",
    "\n",
    "    for i in range(n):\n",
    "        result = result + u[i] * v[i]\n",
    "\n",
    "    return result\n",
    "    "
   ]
  },
  {
   "cell_type": "code",
   "execution_count": 77,
   "id": "ce5a31fa-18b6-4b0a-a737-ed6f94371c13",
   "metadata": {},
   "outputs": [
    {
     "data": {
      "text/plain": [
       "np.float64(55.0)"
      ]
     },
     "execution_count": 77,
     "metadata": {},
     "output_type": "execute_result"
    }
   ],
   "source": [
    "vector_multiplication(u, v)"
   ]
  },
  {
   "cell_type": "code",
   "execution_count": 78,
   "id": "fe22f053-d363-478e-94a5-d8ec72993253",
   "metadata": {},
   "outputs": [
    {
     "data": {
      "text/plain": [
       "np.int64(55)"
      ]
     },
     "execution_count": 78,
     "metadata": {},
     "output_type": "execute_result"
    }
   ],
   "source": [
    "u.dot(v)"
   ]
  },
  {
   "cell_type": "code",
   "execution_count": 81,
   "id": "775942f9-4b4f-4528-a625-eb52b0a95893",
   "metadata": {},
   "outputs": [
    {
     "data": {
      "text/plain": [
       "(5,)"
      ]
     },
     "execution_count": 81,
     "metadata": {},
     "output_type": "execute_result"
    }
   ],
   "source": [
    "u.shape"
   ]
  },
  {
   "cell_type": "code",
   "execution_count": 95,
   "id": "89474fc8-2620-47c2-bd3f-86a62a324cf7",
   "metadata": {},
   "outputs": [],
   "source": [
    "U = np.array([[2,4,5,6],[1,2,1,2],[3,1,2,1]])\n",
    "V = np.array([1,0.5,2,1])\n",
    "\n",
    "def matric_vector_multiplication (U, V):\n",
    "    assert U.shape[1] == V.shape[0]\n",
    "    num_row = U.shape[0]\n",
    "    result = np.zeros(num_row)\n",
    "    for i in range(num_row):\n",
    "        result[i] = vector_multiplication(U[i], V)\n",
    "    return result\n",
    "\n"
   ]
  },
  {
   "cell_type": "code",
   "execution_count": 96,
   "id": "d75c113f-bb1d-4452-b2bd-55c3a22524f9",
   "metadata": {},
   "outputs": [
    {
     "data": {
      "text/plain": [
       "array([20. ,  6. ,  8.5])"
      ]
     },
     "execution_count": 96,
     "metadata": {},
     "output_type": "execute_result"
    }
   ],
   "source": [
    "matric_vector_multiplication(U, V)"
   ]
  },
  {
   "cell_type": "code",
   "execution_count": 97,
   "id": "ae116a0a-0a7b-4584-bca6-a04ec108986c",
   "metadata": {},
   "outputs": [
    {
     "data": {
      "text/plain": [
       "array([20. ,  6. ,  8.5])"
      ]
     },
     "execution_count": 97,
     "metadata": {},
     "output_type": "execute_result"
    }
   ],
   "source": [
    "U.dot(V)\n"
   ]
  },
  {
   "cell_type": "code",
   "execution_count": null,
   "id": "9bf6319e-dc23-41f5-9e0e-d7a9394ec0b5",
   "metadata": {},
   "outputs": [],
   "source": []
  }
 ],
 "metadata": {
  "kernelspec": {
   "display_name": "myenv",
   "language": "python",
   "name": "myenv"
  },
  "language_info": {
   "codemirror_mode": {
    "name": "ipython",
    "version": 3
   },
   "file_extension": ".py",
   "mimetype": "text/x-python",
   "name": "python",
   "nbconvert_exporter": "python",
   "pygments_lexer": "ipython3",
   "version": "3.10.0"
  }
 },
 "nbformat": 4,
 "nbformat_minor": 5
}
