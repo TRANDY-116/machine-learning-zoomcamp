{
 "cells": [
  {
   "cell_type": "code",
   "execution_count": 1,
   "id": "88098af3-8dec-4ef9-acee-0f223765028a",
   "metadata": {},
   "outputs": [],
   "source": [
    "import numpy as np"
   ]
  },
  {
   "cell_type": "code",
   "execution_count": 3,
   "id": "4b593cd6-e825-41a5-ace7-96aaa6446c2e",
   "metadata": {},
   "outputs": [
    {
     "data": {
      "text/plain": [
       "array([0., 0., 0., 0., 0., 0., 0., 0., 0., 0., 0., 0., 0., 0., 0.])"
      ]
     },
     "execution_count": 3,
     "metadata": {},
     "output_type": "execute_result"
    }
   ],
   "source": [
    "zero_numpy = np.zeros(15)\n",
    "zero_numpy"
   ]
  },
  {
   "cell_type": "code",
   "execution_count": 4,
   "id": "dd93ddc7-1200-4f88-82f6-6c3163f50ee3",
   "metadata": {},
   "outputs": [
    {
     "data": {
      "text/plain": [
       "array([1., 1., 1., 1., 1., 1., 1., 1., 1., 1.])"
      ]
     },
     "execution_count": 4,
     "metadata": {},
     "output_type": "execute_result"
    }
   ],
   "source": [
    "one_numpy = np.ones(10)\n",
    "one_numpy"
   ]
  },
  {
   "cell_type": "code",
   "execution_count": 6,
   "id": "70b4584b-c45c-4383-8703-09bfe0c45efb",
   "metadata": {},
   "outputs": [
    {
     "data": {
      "text/plain": [
       "array([16, 16, 16, 16, 16, 16, 16, 16, 16, 16])"
      ]
     },
     "execution_count": 6,
     "metadata": {},
     "output_type": "execute_result"
    }
   ],
   "source": [
    "np.full(10,16)"
   ]
  },
  {
   "cell_type": "code",
   "execution_count": 8,
   "id": "86d753e8-73fe-4aff-8e51-9d88fe661e5e",
   "metadata": {},
   "outputs": [
    {
     "data": {
      "text/plain": [
       "array([5, 4, 3, 2, 1])"
      ]
     },
     "execution_count": 8,
     "metadata": {},
     "output_type": "execute_result"
    }
   ],
   "source": [
    "my_list = [5,4,3,2,1]\n",
    "list_to_numpy = np.array(my_list)\n",
    "list_to_numpy"
   ]
  },
  {
   "cell_type": "code",
   "execution_count": 12,
   "id": "92f7202a-472e-4757-9fbd-6fe0740b8b79",
   "metadata": {},
   "outputs": [
    {
     "data": {
      "text/plain": [
       "array([ 0,  1,  2,  3,  4,  5,  6,  7,  8,  9, 10, 11, 12, 13, 14, 15, 16,\n",
       "       17, 18, 19, 20])"
      ]
     },
     "execution_count": 12,
     "metadata": {},
     "output_type": "execute_result"
    }
   ],
   "source": [
    "np.arange(21)"
   ]
  },
  {
   "cell_type": "code",
   "execution_count": 16,
   "id": "96e4be4f-5cad-4a01-b487-3a48876661cc",
   "metadata": {},
   "outputs": [
    {
     "data": {
      "text/plain": [
       "array([ 1.,  6., 11., 16., 21.])"
      ]
     },
     "execution_count": 16,
     "metadata": {},
     "output_type": "execute_result"
    }
   ],
   "source": [
    "np.linspace(1,21,5)"
   ]
  },
  {
   "cell_type": "code",
   "execution_count": 19,
   "id": "afb5624a-b2d7-47b5-843d-28858e80926a",
   "metadata": {},
   "outputs": [
    {
     "data": {
      "text/plain": [
       "array([0. , 0.1, 0.2, 0.3, 0.4, 0.5, 0.6, 0.7, 0.8, 0.9, 1. ])"
      ]
     },
     "execution_count": 19,
     "metadata": {},
     "output_type": "execute_result"
    }
   ],
   "source": [
    "np.linspace(0,1,11)"
   ]
  },
  {
   "cell_type": "code",
   "execution_count": 20,
   "id": "2da5416b-4094-4da5-bef1-ae62f3db7861",
   "metadata": {},
   "outputs": [
    {
     "data": {
      "text/plain": [
       "array([0., 0., 0., 0., 0.])"
      ]
     },
     "execution_count": 20,
     "metadata": {},
     "output_type": "execute_result"
    }
   ],
   "source": [
    "np.zeros((5))"
   ]
  },
  {
   "cell_type": "code",
   "execution_count": 21,
   "id": "be6b52ab-ef45-4add-8354-21ab0ffdf568",
   "metadata": {},
   "outputs": [
    {
     "data": {
      "text/plain": [
       "array([1., 1., 1.])"
      ]
     },
     "execution_count": 21,
     "metadata": {},
     "output_type": "execute_result"
    }
   ],
   "source": [
    "np.ones((3))"
   ]
  },
  {
   "cell_type": "code",
   "execution_count": 23,
   "id": "f8a886bc-d9e4-4849-a38a-99d70306fa33",
   "metadata": {},
   "outputs": [
    {
     "data": {
      "text/plain": [
       "array([[2, 2],\n",
       "       [2, 2],\n",
       "       [2, 2],\n",
       "       [2, 2],\n",
       "       [2, 2],\n",
       "       [2, 2],\n",
       "       [2, 2],\n",
       "       [2, 2],\n",
       "       [2, 2],\n",
       "       [2, 2]])"
      ]
     },
     "execution_count": 23,
     "metadata": {},
     "output_type": "execute_result"
    }
   ],
   "source": [
    "np.full((10,2), 2)"
   ]
  },
  {
   "cell_type": "code",
   "execution_count": 26,
   "id": "a3c9d4c1-6e17-439f-9965-1a56a619c8bf",
   "metadata": {},
   "outputs": [
    {
     "data": {
      "text/plain": [
       "array([2, 3, 4])"
      ]
     },
     "execution_count": 26,
     "metadata": {},
     "output_type": "execute_result"
    }
   ],
   "source": [
    "arr= np.array([[2, 3, 4],[4,5,6]])\n",
    "first_row = arr[0]\n",
    "first_row"
   ]
  },
  {
   "cell_type": "code",
   "execution_count": 28,
   "id": "25ce43e5-a924-4fda-9462-97f5e025582e",
   "metadata": {},
   "outputs": [
    {
     "data": {
      "text/plain": [
       "array([2, 4])"
      ]
     },
     "execution_count": 28,
     "metadata": {},
     "output_type": "execute_result"
    }
   ],
   "source": [
    "first_col = arr[:, 0]\n",
    "first_col"
   ]
  },
  {
   "cell_type": "code",
   "execution_count": 29,
   "id": "e0a72113-33fc-4c92-8d29-aa80f004612b",
   "metadata": {},
   "outputs": [
    {
     "data": {
      "text/plain": [
       "array([[ 1.65724653, -0.43450892],\n",
       "       [-1.01559634,  2.13286837],\n",
       "       [-2.07315592,  0.56960832],\n",
       "       [-1.16231114,  0.32915956],\n",
       "       [-2.0182202 , -1.98425457]])"
      ]
     },
     "execution_count": 29,
     "metadata": {},
     "output_type": "execute_result"
    }
   ],
   "source": [
    "# negative randomness\n",
    "np.random.randn(5,2)"
   ]
  },
  {
   "cell_type": "code",
   "execution_count": 31,
   "id": "100c8fbc-6a33-4759-b0dd-34b90379acf5",
   "metadata": {},
   "outputs": [
    {
     "data": {
      "text/plain": [
       "array([[0.79902773, 0.25009107],\n",
       "       [0.22627081, 0.39046772],\n",
       "       [0.76296283, 0.78888867],\n",
       "       [0.94206119, 0.17947795],\n",
       "       [0.37909887, 0.77035782]])"
      ]
     },
     "execution_count": 31,
     "metadata": {},
     "output_type": "execute_result"
    }
   ],
   "source": [
    "# positive randomess\n",
    "np.random.rand(5,2)"
   ]
  },
  {
   "cell_type": "code",
   "execution_count": 39,
   "id": "bc926a3e-d66e-4c0c-b9a1-358cd41b8618",
   "metadata": {},
   "outputs": [
    {
     "data": {
      "text/plain": [
       "array([[0.89286015, 0.33197981],\n",
       "       [0.82122912, 0.04169663],\n",
       "       [0.10765668, 0.59505206],\n",
       "       [0.52981736, 0.41880743],\n",
       "       [0.33540785, 0.62251943]])"
      ]
     },
     "execution_count": 39,
     "metadata": {},
     "output_type": "execute_result"
    }
   ],
   "source": [
    "np.random.seed(6)\n",
    "random_array = np.random.rand(5, 2)  # Generates random numbers between 0 and 1\n",
    "random_array"
   ]
  },
  {
   "cell_type": "code",
   "execution_count": 44,
   "id": "20f9f83d-ea15-4f6e-8286-aab6dcb8b33e",
   "metadata": {},
   "outputs": [
    {
     "data": {
      "text/plain": [
       "array([[11, 74],\n",
       "       [85, 80],\n",
       "       [81, 63],\n",
       "       [26,  2],\n",
       "       [76, 78]], dtype=int32)"
      ]
     },
     "execution_count": 44,
     "metadata": {},
     "output_type": "execute_result"
    }
   ],
   "source": [
    "np.random.seed(6)\n",
    "np.random.randint(low = 1, high = 100, size = (5,2))"
   ]
  },
  {
   "cell_type": "code",
   "execution_count": 50,
   "id": "02fb5877-b100-43ca-b107-7271b7964174",
   "metadata": {},
   "outputs": [
    {
     "data": {
      "text/plain": [
       "array([[3, 4, 5],\n",
       "       [5, 6, 7]])"
      ]
     },
     "execution_count": 50,
     "metadata": {},
     "output_type": "execute_result"
    }
   ],
   "source": [
    "arrplus = arr + 1\n",
    "arrplus"
   ]
  },
  {
   "cell_type": "code",
   "execution_count": 52,
   "id": "739d7d1b-8ab7-4432-a117-4d0e14b4755f",
   "metadata": {},
   "outputs": [
    {
     "data": {
      "text/plain": [
       "array([[4, 5, 6],\n",
       "       [6, 7, 8]])"
      ]
     },
     "execution_count": 52,
     "metadata": {},
     "output_type": "execute_result"
    }
   ],
   "source": [
    "arrplus + 1"
   ]
  },
  {
   "cell_type": "code",
   "execution_count": 53,
   "id": "0ac1dafd-1027-4b5b-bedb-9ed3b5680ea3",
   "metadata": {},
   "outputs": [
    {
     "data": {
      "text/plain": [
       "array([[15, 20, 25],\n",
       "       [25, 30, 35]])"
      ]
     },
     "execution_count": 53,
     "metadata": {},
     "output_type": "execute_result"
    }
   ],
   "source": [
    "arrmul = arrplus * 5\n",
    "arrmul"
   ]
  },
  {
   "cell_type": "code",
   "execution_count": 54,
   "id": "7a369594-2e83-41a0-ade6-6312acb4e895",
   "metadata": {},
   "outputs": [],
   "source": [
    "arr1 = np.ones(4)\n",
    "arr2 = np.full(4, 3)\n",
    "result = arr1 + arr2  # Element-wise addition\n",
    "result1 = arr1 / arr2  # Element-wise division"
   ]
  },
  {
   "cell_type": "code",
   "execution_count": 55,
   "id": "d2d6740c-a455-467d-a4d7-310b038bf947",
   "metadata": {},
   "outputs": [
    {
     "data": {
      "text/plain": [
       "array([4., 4., 4., 4.])"
      ]
     },
     "execution_count": 55,
     "metadata": {},
     "output_type": "execute_result"
    }
   ],
   "source": [
    "result"
   ]
  },
  {
   "cell_type": "code",
   "execution_count": 56,
   "id": "6cd6b7de-fe60-4bda-a97b-eb699841f56c",
   "metadata": {},
   "outputs": [
    {
     "data": {
      "text/plain": [
       "array([0.33333333, 0.33333333, 0.33333333, 0.33333333])"
      ]
     },
     "execution_count": 56,
     "metadata": {},
     "output_type": "execute_result"
    }
   ],
   "source": [
    "result1"
   ]
  },
  {
   "cell_type": "code",
   "execution_count": 62,
   "id": "ab99aa7b-5750-4ef9-bcfa-e197896a0431",
   "metadata": {},
   "outputs": [],
   "source": [
    "arr = np.array([1, 2, 3, 4])\n",
    "greater_less_5 = arr < 5 "
   ]
  },
  {
   "cell_type": "code",
   "execution_count": 63,
   "id": "435cb342-cee9-43e1-9173-78e54535d4b7",
   "metadata": {},
   "outputs": [
    {
     "data": {
      "text/plain": [
       "array([ True,  True,  True,  True])"
      ]
     },
     "execution_count": 63,
     "metadata": {},
     "output_type": "execute_result"
    }
   ],
   "source": [
    "greater_less_5"
   ]
  },
  {
   "cell_type": "code",
   "execution_count": 64,
   "id": "d2b473cc-530d-4e40-ae15-c4995c65d310",
   "metadata": {},
   "outputs": [
    {
     "data": {
      "text/plain": [
       "array([3, 4])"
      ]
     },
     "execution_count": 64,
     "metadata": {},
     "output_type": "execute_result"
    }
   ],
   "source": [
    "arr[arr > 2]"
   ]
  },
  {
   "cell_type": "code",
   "execution_count": 66,
   "id": "ca0c1156-6e62-4c55-b6e6-bff625afd40c",
   "metadata": {},
   "outputs": [
    {
     "data": {
      "text/plain": [
       "np.int64(1)"
      ]
     },
     "execution_count": 66,
     "metadata": {},
     "output_type": "execute_result"
    }
   ],
   "source": [
    "arr.min()"
   ]
  },
  {
   "cell_type": "code",
   "execution_count": 67,
   "id": "7b806ad8-198d-4cc1-8b25-2503cfd2e4d9",
   "metadata": {},
   "outputs": [
    {
     "data": {
      "text/plain": [
       "np.float64(2.5)"
      ]
     },
     "execution_count": 67,
     "metadata": {},
     "output_type": "execute_result"
    }
   ],
   "source": [
    "arr.mean()"
   ]
  },
  {
   "cell_type": "code",
   "execution_count": null,
   "id": "eca5c1c4-8795-4d47-9c2b-2c11f2eaf0a6",
   "metadata": {},
   "outputs": [],
   "source": []
  }
 ],
 "metadata": {
  "kernelspec": {
   "display_name": "myenv",
   "language": "python",
   "name": "myenv"
  },
  "language_info": {
   "codemirror_mode": {
    "name": "ipython",
    "version": 3
   },
   "file_extension": ".py",
   "mimetype": "text/x-python",
   "name": "python",
   "nbconvert_exporter": "python",
   "pygments_lexer": "ipython3",
   "version": "3.10.0"
  }
 },
 "nbformat": 4,
 "nbformat_minor": 5
}
