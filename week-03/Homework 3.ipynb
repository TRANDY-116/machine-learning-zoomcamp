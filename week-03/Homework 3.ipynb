{
 "cells": [
  {
   "cell_type": "code",
   "execution_count": 26,
   "id": "e63c609d-6860-403b-b517-0fb69ea35485",
   "metadata": {},
   "outputs": [],
   "source": [
    "import pandas as pd\n",
    "import numpy as np\n",
    "import matplotlib.pyplot as plt\n",
    "from sklearn.model_selection import train_test_split"
   ]
  },
  {
   "cell_type": "code",
   "execution_count": 4,
   "id": "b69b9861-18c5-46a6-ba7f-c651b077abb5",
   "metadata": {},
   "outputs": [
    {
     "name": "stderr",
     "output_type": "stream",
     "text": [
      "--2025-10-15 20:32:42--  https://raw.githubusercontent.com/alexeygrigorev/datasets/master/course_lead_scoring.csv\n",
      "Resolving raw.githubusercontent.com (raw.githubusercontent.com)... 2606:50c0:8001::154, 2606:50c0:8002::154, 2606:50c0:8003::154, ...\n",
      "Connecting to raw.githubusercontent.com (raw.githubusercontent.com)|2606:50c0:8001::154|:443... connected.\n",
      "HTTP request sent, awaiting response... 200 OK\n",
      "Length: 80876 (79K) [text/plain]\n",
      "Saving to: 'scores.csv'\n",
      "\n",
      "     0K .......... .......... .......... .......... .......... 63%  396K 0s\n",
      "    50K .......... .......... ........                        100%  867K=0.2s\n",
      "\n",
      "2025-10-15 20:32:43 (495 KB/s) - 'scores.csv' saved [80876/80876]\n",
      "\n"
     ]
    }
   ],
   "source": [
    "data = \"https://raw.githubusercontent.com/alexeygrigorev/datasets/master/course_lead_scoring.csv\"\n",
    "!wget $data -O scores.csv"
   ]
  },
  {
   "cell_type": "code",
   "execution_count": 7,
   "id": "8e327771-c502-49f0-8971-6d6b3698df1a",
   "metadata": {},
   "outputs": [
    {
     "data": {
      "text/html": [
       "<div>\n",
       "<style scoped>\n",
       "    .dataframe tbody tr th:only-of-type {\n",
       "        vertical-align: middle;\n",
       "    }\n",
       "\n",
       "    .dataframe tbody tr th {\n",
       "        vertical-align: top;\n",
       "    }\n",
       "\n",
       "    .dataframe thead th {\n",
       "        text-align: right;\n",
       "    }\n",
       "</style>\n",
       "<table border=\"1\" class=\"dataframe\">\n",
       "  <thead>\n",
       "    <tr style=\"text-align: right;\">\n",
       "      <th></th>\n",
       "      <th>lead_source</th>\n",
       "      <th>industry</th>\n",
       "      <th>number_of_courses_viewed</th>\n",
       "      <th>annual_income</th>\n",
       "      <th>employment_status</th>\n",
       "      <th>location</th>\n",
       "      <th>interaction_count</th>\n",
       "      <th>lead_score</th>\n",
       "      <th>converted</th>\n",
       "    </tr>\n",
       "  </thead>\n",
       "  <tbody>\n",
       "    <tr>\n",
       "      <th>0</th>\n",
       "      <td>paid_ads</td>\n",
       "      <td>NaN</td>\n",
       "      <td>1</td>\n",
       "      <td>79450.0</td>\n",
       "      <td>unemployed</td>\n",
       "      <td>south_america</td>\n",
       "      <td>4</td>\n",
       "      <td>0.94</td>\n",
       "      <td>1</td>\n",
       "    </tr>\n",
       "    <tr>\n",
       "      <th>1</th>\n",
       "      <td>social_media</td>\n",
       "      <td>retail</td>\n",
       "      <td>1</td>\n",
       "      <td>46992.0</td>\n",
       "      <td>employed</td>\n",
       "      <td>south_america</td>\n",
       "      <td>1</td>\n",
       "      <td>0.80</td>\n",
       "      <td>0</td>\n",
       "    </tr>\n",
       "    <tr>\n",
       "      <th>2</th>\n",
       "      <td>events</td>\n",
       "      <td>healthcare</td>\n",
       "      <td>5</td>\n",
       "      <td>78796.0</td>\n",
       "      <td>unemployed</td>\n",
       "      <td>australia</td>\n",
       "      <td>3</td>\n",
       "      <td>0.69</td>\n",
       "      <td>1</td>\n",
       "    </tr>\n",
       "    <tr>\n",
       "      <th>3</th>\n",
       "      <td>paid_ads</td>\n",
       "      <td>retail</td>\n",
       "      <td>2</td>\n",
       "      <td>83843.0</td>\n",
       "      <td>NaN</td>\n",
       "      <td>australia</td>\n",
       "      <td>1</td>\n",
       "      <td>0.87</td>\n",
       "      <td>0</td>\n",
       "    </tr>\n",
       "    <tr>\n",
       "      <th>4</th>\n",
       "      <td>referral</td>\n",
       "      <td>education</td>\n",
       "      <td>3</td>\n",
       "      <td>85012.0</td>\n",
       "      <td>self_employed</td>\n",
       "      <td>europe</td>\n",
       "      <td>3</td>\n",
       "      <td>0.62</td>\n",
       "      <td>1</td>\n",
       "    </tr>\n",
       "  </tbody>\n",
       "</table>\n",
       "</div>"
      ],
      "text/plain": [
       "    lead_source    industry  number_of_courses_viewed  annual_income  \\\n",
       "0      paid_ads         NaN                         1        79450.0   \n",
       "1  social_media      retail                         1        46992.0   \n",
       "2        events  healthcare                         5        78796.0   \n",
       "3      paid_ads      retail                         2        83843.0   \n",
       "4      referral   education                         3        85012.0   \n",
       "\n",
       "  employment_status       location  interaction_count  lead_score  converted  \n",
       "0        unemployed  south_america                  4        0.94          1  \n",
       "1          employed  south_america                  1        0.80          0  \n",
       "2        unemployed      australia                  3        0.69          1  \n",
       "3               NaN      australia                  1        0.87          0  \n",
       "4     self_employed         europe                  3        0.62          1  "
      ]
     },
     "execution_count": 7,
     "metadata": {},
     "output_type": "execute_result"
    }
   ],
   "source": [
    "# importing and viewing dataset\n",
    "df = pd.read_csv(\"scores.csv\")\n",
    "df.head()"
   ]
  },
  {
   "cell_type": "code",
   "execution_count": 8,
   "id": "175eb663-b87b-4002-a342-f01c17857df0",
   "metadata": {},
   "outputs": [
    {
     "name": "stdout",
     "output_type": "stream",
     "text": [
      "<class 'pandas.core.frame.DataFrame'>\n",
      "RangeIndex: 1462 entries, 0 to 1461\n",
      "Data columns (total 9 columns):\n",
      " #   Column                    Non-Null Count  Dtype  \n",
      "---  ------                    --------------  -----  \n",
      " 0   lead_source               1334 non-null   object \n",
      " 1   industry                  1328 non-null   object \n",
      " 2   number_of_courses_viewed  1462 non-null   int64  \n",
      " 3   annual_income             1281 non-null   float64\n",
      " 4   employment_status         1362 non-null   object \n",
      " 5   location                  1399 non-null   object \n",
      " 6   interaction_count         1462 non-null   int64  \n",
      " 7   lead_score                1462 non-null   float64\n",
      " 8   converted                 1462 non-null   int64  \n",
      "dtypes: float64(2), int64(3), object(4)\n",
      "memory usage: 102.9+ KB\n"
     ]
    }
   ],
   "source": [
    "df.info()"
   ]
  },
  {
   "cell_type": "code",
   "execution_count": 9,
   "id": "66d329fe-464c-4f0c-b560-0d4c8f29fa56",
   "metadata": {},
   "outputs": [
    {
     "data": {
      "text/plain": [
       "lead_source                 128\n",
       "industry                    134\n",
       "number_of_courses_viewed      0\n",
       "annual_income               181\n",
       "employment_status           100\n",
       "location                     63\n",
       "interaction_count             0\n",
       "lead_score                    0\n",
       "converted                     0\n",
       "dtype: int64"
      ]
     },
     "execution_count": 9,
     "metadata": {},
     "output_type": "execute_result"
    }
   ],
   "source": [
    "df.isnull().sum()"
   ]
  },
  {
   "cell_type": "code",
   "execution_count": 32,
   "id": "96d853e1-6586-44cf-9fe8-2085049dc4fe",
   "metadata": {},
   "outputs": [],
   "source": [
    "numerical = (['annual_income','lead_score'])\n",
    "categorical_columns = (['lead_source', 'industry', 'number_of_courses_viewed',\n",
    "       'employment_status', 'location', 'interaction_count',\n",
    "       'converted'])"
   ]
  },
  {
   "cell_type": "code",
   "execution_count": 33,
   "id": "adb9d255-85f0-4509-b216-2d26942d8f31",
   "metadata": {},
   "outputs": [],
   "source": [
    "df[numerical] = df[numerical].fillna(0.0)\n",
    "df[categorical_columns] = df[categorical_columns].fillna('NA')"
   ]
  },
  {
   "cell_type": "code",
   "execution_count": 34,
   "id": "341aefaf-9cf6-4c5b-ae0c-0f5573428e2b",
   "metadata": {},
   "outputs": [
    {
     "name": "stdout",
     "output_type": "stream",
     "text": [
      "lead_source\n",
      "organic_search    282\n",
      "social_media      278\n",
      "paid_ads          264\n",
      "referral          260\n",
      "events            250\n",
      "NA                128\n",
      "Name: count, dtype: int64\n",
      "Sum of null  0\n",
      "\n",
      "industry\n",
      "retail           203\n",
      "finance          200\n",
      "other            198\n",
      "healthcare       187\n",
      "education        187\n",
      "technology       179\n",
      "manufacturing    174\n",
      "NA               134\n",
      "Name: count, dtype: int64\n",
      "Sum of null  0\n",
      "\n",
      "number_of_courses_viewed\n",
      "1    417\n",
      "2    388\n",
      "3    269\n",
      "0    181\n",
      "4    109\n",
      "5     67\n",
      "6     22\n",
      "7      6\n",
      "8      2\n",
      "9      1\n",
      "Name: count, dtype: int64\n",
      "Sum of null  0\n",
      "\n",
      "annual_income\n",
      "0.0        181\n",
      "58949.0      2\n",
      "63133.0      2\n",
      "62478.0      2\n",
      "45569.0      2\n",
      "          ... \n",
      "69519.0      1\n",
      "67832.0      1\n",
      "63977.0      1\n",
      "62536.0      1\n",
      "92855.0      1\n",
      "Name: count, Length: 1268, dtype: int64\n",
      "Sum of null  0\n",
      "\n",
      "employment_status\n",
      "self_employed    352\n",
      "student          348\n",
      "unemployed       334\n",
      "employed         328\n",
      "NA               100\n",
      "Name: count, dtype: int64\n",
      "Sum of null  0\n",
      "\n",
      "location\n",
      "north_america    225\n",
      "europe           216\n",
      "middle_east      198\n",
      "asia             195\n",
      "south_america    192\n",
      "africa           188\n",
      "australia        185\n",
      "NA                63\n",
      "Name: count, dtype: int64\n",
      "Sum of null  0\n",
      "\n",
      "interaction_count\n",
      "3     343\n",
      "2     320\n",
      "4     273\n",
      "1     209\n",
      "5     137\n",
      "0      75\n",
      "6      59\n",
      "7      33\n",
      "8       8\n",
      "9       3\n",
      "10      1\n",
      "11      1\n",
      "Name: count, dtype: int64\n",
      "Sum of null  0\n",
      "\n",
      "lead_score\n",
      "0.60    24\n",
      "0.82    22\n",
      "0.02    21\n",
      "0.20    21\n",
      "0.41    21\n",
      "        ..\n",
      "0.19     9\n",
      "0.23     8\n",
      "0.12     7\n",
      "0.77     7\n",
      "1.00     5\n",
      "Name: count, Length: 101, dtype: int64\n",
      "Sum of null  0\n",
      "\n",
      "converted\n",
      "1    905\n",
      "0    557\n",
      "Name: count, dtype: int64\n",
      "Sum of null  0\n",
      "\n"
     ]
    }
   ],
   "source": [
    "columns = df.columns\n",
    "for col in columns:\n",
    "    print(df[col].value_counts())\n",
    "    print(\"Sum of null \",df[col].isnull().sum())\n",
    "    print()"
   ]
  },
  {
   "cell_type": "code",
   "execution_count": 35,
   "id": "116698a4-525d-41fb-91ef-eb607caea4ca",
   "metadata": {},
   "outputs": [
    {
     "data": {
      "text/plain": [
       "converted\n",
       "1    905\n",
       "0    557\n",
       "Name: count, dtype: int64"
      ]
     },
     "execution_count": 35,
     "metadata": {},
     "output_type": "execute_result"
    }
   ],
   "source": [
    "df.converted.value_counts()"
   ]
  },
  {
   "cell_type": "markdown",
   "id": "c82f0606-1904-40d5-a76b-a4f4a3a9072c",
   "metadata": {},
   "source": [
    "### Setting up the validation framework"
   ]
  },
  {
   "cell_type": "code",
   "execution_count": 36,
   "id": "c568e6ae-6d1b-434f-ac2c-990ec9c5bd63",
   "metadata": {},
   "outputs": [],
   "source": [
    "df_full_train, df_test = train_test_split(df, test_size=0.2, random_state=1)\n",
    "df_train, df_val = train_test_split(df_full_train, test_size=0.25, random_state=1)"
   ]
  },
  {
   "cell_type": "code",
   "execution_count": 37,
   "id": "75ba1e46-ff49-48e2-93ff-4aba4818659c",
   "metadata": {},
   "outputs": [
    {
     "data": {
      "text/plain": [
       "(876, 293, 293)"
      ]
     },
     "execution_count": 37,
     "metadata": {},
     "output_type": "execute_result"
    }
   ],
   "source": [
    "len(df_train), len(df_val), len(df_test)"
   ]
  },
  {
   "cell_type": "code",
   "execution_count": null,
   "id": "f4f3db04-e707-4acf-b1c5-8d77a2a982c9",
   "metadata": {},
   "outputs": [],
   "source": []
  }
 ],
 "metadata": {
  "kernelspec": {
   "display_name": "myenv",
   "language": "python",
   "name": "myenv"
  },
  "language_info": {
   "codemirror_mode": {
    "name": "ipython",
    "version": 3
   },
   "file_extension": ".py",
   "mimetype": "text/x-python",
   "name": "python",
   "nbconvert_exporter": "python",
   "pygments_lexer": "ipython3",
   "version": "3.10.0"
  }
 },
 "nbformat": 4,
 "nbformat_minor": 5
}
